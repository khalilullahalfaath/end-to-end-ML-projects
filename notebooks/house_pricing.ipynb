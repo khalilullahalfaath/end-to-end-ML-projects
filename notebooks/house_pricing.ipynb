{
 "cells": [
  {
   "cell_type": "code",
   "execution_count": 6,
   "metadata": {},
   "outputs": [],
   "source": [
    "from pathlib import Path\n",
    "import pandas as pd\n",
    "import numpy as np"
   ]
  },
  {
   "cell_type": "code",
   "execution_count": 9,
   "metadata": {},
   "outputs": [],
   "source": [
    "def load_dataset():\n",
    "    data_path = Path(\"../data/results/results.csv\")\n",
    "\n",
    "    # set column names\n",
    "    col_names = [\n",
    "                    \"type\",\n",
    "                    \"status\",\n",
    "                    \"price\",\n",
    "                    \"instalment\",\n",
    "                    \"house_name\",\n",
    "                    \"location\",\n",
    "                    \"bedroom_count\",\n",
    "                    \"bathroom_count\",\n",
    "                    \"carport_count\",\n",
    "                    \"land_area\",\n",
    "                    \"building_area\",\n",
    "                ]\n",
    "\n",
    "    # if not available\n",
    "    if not data_path.is_file():\n",
    "        # TODO: if the datasets is uploaded on kaggle, add the code link\n",
    "        raise ReferenceError(\"Data kaggle is not yet available\")\n",
    "\n",
    "    return pd.read_csv(data_path, names= col_names)"
   ]
  },
  {
   "cell_type": "code",
   "execution_count": 10,
   "metadata": {},
   "outputs": [],
   "source": [
    "housing = load_dataset()"
   ]
  },
  {
   "cell_type": "code",
   "execution_count": 11,
   "metadata": {},
   "outputs": [
    {
     "data": {
      "text/html": [
       "<div>\n",
       "<style scoped>\n",
       "    .dataframe tbody tr th:only-of-type {\n",
       "        vertical-align: middle;\n",
       "    }\n",
       "\n",
       "    .dataframe tbody tr th {\n",
       "        vertical-align: top;\n",
       "    }\n",
       "\n",
       "    .dataframe thead th {\n",
       "        text-align: right;\n",
       "    }\n",
       "</style>\n",
       "<table border=\"1\" class=\"dataframe\">\n",
       "  <thead>\n",
       "    <tr style=\"text-align: right;\">\n",
       "      <th></th>\n",
       "      <th>type</th>\n",
       "      <th>status</th>\n",
       "      <th>price</th>\n",
       "      <th>instalment</th>\n",
       "      <th>house_name</th>\n",
       "      <th>location</th>\n",
       "      <th>bedroom_count</th>\n",
       "      <th>bathroom_count</th>\n",
       "      <th>carport_count</th>\n",
       "      <th>land_area</th>\n",
       "      <th>building_area</th>\n",
       "    </tr>\n",
       "  </thead>\n",
       "  <tbody>\n",
       "    <tr>\n",
       "      <th>0</th>\n",
       "      <td>Rumah</td>\n",
       "      <td>Premier</td>\n",
       "      <td>Rp 2,1 Miliar</td>\n",
       "      <td>Cicilan: 7 Jutaan per bulan</td>\n",
       "      <td>Rumah 2 Lantai Bagus Sertifikat Hak Milik di M...</td>\n",
       "      <td>Andir, Bandung</td>\n",
       "      <td>3</td>\n",
       "      <td>2</td>\n",
       "      <td>2</td>\n",
       "      <td>137 m²</td>\n",
       "      <td>170 m²</td>\n",
       "    </tr>\n",
       "    <tr>\n",
       "      <th>1</th>\n",
       "      <td>Rumah</td>\n",
       "      <td>NaN</td>\n",
       "      <td>Rp 4,1 Miliar</td>\n",
       "      <td>Cicilan: 15 Jutaan per bulan</td>\n",
       "      <td>Rumah Cantik @ Andir (Sudirman)</td>\n",
       "      <td>Andir, Bandung</td>\n",
       "      <td>3</td>\n",
       "      <td>2</td>\n",
       "      <td>3</td>\n",
       "      <td>202 m²</td>\n",
       "      <td>300 m²</td>\n",
       "    </tr>\n",
       "    <tr>\n",
       "      <th>2</th>\n",
       "      <td>Rumah</td>\n",
       "      <td>NaN</td>\n",
       "      <td>Rp 3,3 Miliar</td>\n",
       "      <td>Cicilan: 12 Jutaan per bulan</td>\n",
       "      <td>Jual Cepat Rumah di Maleber Rajawali Bisa Untu...</td>\n",
       "      <td>Andir, Bandung</td>\n",
       "      <td>5</td>\n",
       "      <td>2</td>\n",
       "      <td>1</td>\n",
       "      <td>350 m²</td>\n",
       "      <td>258 m²</td>\n",
       "    </tr>\n",
       "  </tbody>\n",
       "</table>\n",
       "</div>"
      ],
      "text/plain": [
       "    type   status          price                    instalment  \\\n",
       "0  Rumah  Premier  Rp 2,1 Miliar   Cicilan: 7 Jutaan per bulan   \n",
       "1  Rumah      NaN  Rp 4,1 Miliar  Cicilan: 15 Jutaan per bulan   \n",
       "2  Rumah      NaN  Rp 3,3 Miliar  Cicilan: 12 Jutaan per bulan   \n",
       "\n",
       "                                          house_name        location  \\\n",
       "0  Rumah 2 Lantai Bagus Sertifikat Hak Milik di M...  Andir, Bandung   \n",
       "1                    Rumah Cantik @ Andir (Sudirman)  Andir, Bandung   \n",
       "2  Jual Cepat Rumah di Maleber Rajawali Bisa Untu...  Andir, Bandung   \n",
       "\n",
       "   bedroom_count  bathroom_count  carport_count land_area building_area  \n",
       "0              3               2              2    137 m²        170 m²  \n",
       "1              3               2              3    202 m²        300 m²  \n",
       "2              5               2              1    350 m²        258 m²  "
      ]
     },
     "execution_count": 11,
     "metadata": {},
     "output_type": "execute_result"
    }
   ],
   "source": [
    "housing.head(3)"
   ]
  },
  {
   "cell_type": "code",
   "execution_count": 12,
   "metadata": {},
   "outputs": [
    {
     "name": "stdout",
     "output_type": "stream",
     "text": [
      "<class 'pandas.core.frame.DataFrame'>\n",
      "RangeIndex: 7611 entries, 0 to 7610\n",
      "Data columns (total 11 columns):\n",
      " #   Column          Non-Null Count  Dtype \n",
      "---  ------          --------------  ----- \n",
      " 0   type            7611 non-null   object\n",
      " 1   status          145 non-null    object\n",
      " 2   price           7611 non-null   object\n",
      " 3   instalment      7611 non-null   object\n",
      " 4   house_name      7611 non-null   object\n",
      " 5   location        7611 non-null   object\n",
      " 6   bedroom_count   7611 non-null   int64 \n",
      " 7   bathroom_count  7611 non-null   int64 \n",
      " 8   carport_count   7611 non-null   int64 \n",
      " 9   land_area       7609 non-null   object\n",
      " 10  building_area   7610 non-null   object\n",
      "dtypes: int64(3), object(8)\n",
      "memory usage: 654.2+ KB\n"
     ]
    }
   ],
   "source": [
    "housing.info()"
   ]
  },
  {
   "cell_type": "markdown",
   "metadata": {},
   "source": [
    "This analysis examines a DataFrame containing 7611 rows and 11 columns related to house listings. Here's a breakdown of the key points:\n",
    "\n",
    "**Data Types:**\n",
    "\n",
    "- Most columns (type, status, price, instalment, house_name, location) are currently stored as text (`object`) even though they might contain numerical information (\"20 million\").\n",
    "- Numerical features (bedroom_count, bathroom_count, carport_count) have the correct data type (`int64`).\n",
    "- Land and building area are numerical values stored as text (`object`) due to scraping capturing extra characters (e.g., \"m²\").\n",
    "\n",
    "**Missing Values:**\n",
    "\n",
    "- There are missing values in some columns:\n",
    "    - `status` (145 missing)\n",
    "    - `land_area` (2 missing)\n",
    "    - `building_area` (1 missing)\n",
    "\n",
    "**Data Cleaning Required:**\n",
    "\n",
    "- Transform price, land_area, and building_area from text to numbers by removing characters like \"Rp\" and \"m²\".\n",
    "- Decide how to handle missing values:\n",
    "    - Impute missing values with appropriate strategies (e.g., median, mean) if the number of missing values is low.\n",
    "    - Remove entries with missing values if they are a significant portion of the data or if imputation is not feasible.\n",
    "\n",
    "**Additional Considerations:**\n",
    "\n",
    "- Explore the meaning of columns like `type` and `status` and whether they require further cleaning or encoding.\n",
    "- Analyze potential outliers in numerical features after cleaning.\n"
   ]
  },
  {
   "cell_type": "code",
   "execution_count": null,
   "metadata": {},
   "outputs": [],
   "source": []
  }
 ],
 "metadata": {
  "kernelspec": {
   "display_name": "Python 3",
   "language": "python",
   "name": "python3"
  },
  "language_info": {
   "codemirror_mode": {
    "name": "ipython",
    "version": 3
   },
   "file_extension": ".py",
   "mimetype": "text/x-python",
   "name": "python",
   "nbconvert_exporter": "python",
   "pygments_lexer": "ipython3",
   "version": "3.10.13"
  }
 },
 "nbformat": 4,
 "nbformat_minor": 2
}
