{
 "cells": [
  {
   "cell_type": "code",
   "execution_count": 1,
   "metadata": {},
   "outputs": [],
   "source": [
    "import numpy as np\n",
    "import pandas as pd\n",
    "import matplotlib.pyplot as plt\n",
    "import seaborn as sns"
   ]
  },
  {
   "cell_type": "code",
   "execution_count": 2,
   "metadata": {},
   "outputs": [],
   "source": [
    "CSV_PATH = \"../data/results/results_cleaned_categorized.csv\""
   ]
  },
  {
   "cell_type": "code",
   "execution_count": 3,
   "metadata": {},
   "outputs": [
    {
     "data": {
      "text/html": [
       "<div>\n",
       "<style scoped>\n",
       "    .dataframe tbody tr th:only-of-type {\n",
       "        vertical-align: middle;\n",
       "    }\n",
       "\n",
       "    .dataframe tbody tr th {\n",
       "        vertical-align: top;\n",
       "    }\n",
       "\n",
       "    .dataframe thead th {\n",
       "        text-align: right;\n",
       "    }\n",
       "</style>\n",
       "<table border=\"1\" class=\"dataframe\">\n",
       "  <thead>\n",
       "    <tr style=\"text-align: right;\">\n",
       "      <th></th>\n",
       "      <th>house_name</th>\n",
       "      <th>location</th>\n",
       "      <th>bedroom_count</th>\n",
       "      <th>bathroom_count</th>\n",
       "      <th>carport_count</th>\n",
       "      <th>price</th>\n",
       "      <th>land_area (m2)</th>\n",
       "      <th>building_area (m2)</th>\n",
       "      <th>category</th>\n",
       "    </tr>\n",
       "  </thead>\n",
       "  <tbody>\n",
       "    <tr>\n",
       "      <th>0</th>\n",
       "      <td>Rumah 2 Lantai Bagus Sertifikat Hak Milik di M...</td>\n",
       "      <td>Andir, Bandung</td>\n",
       "      <td>3</td>\n",
       "      <td>2</td>\n",
       "      <td>2</td>\n",
       "      <td>2100000000</td>\n",
       "      <td>137</td>\n",
       "      <td>170</td>\n",
       "      <td>rumah</td>\n",
       "    </tr>\n",
       "    <tr>\n",
       "      <th>1</th>\n",
       "      <td>Rumah Cantik @ Andir (Sudirman)</td>\n",
       "      <td>Andir, Bandung</td>\n",
       "      <td>3</td>\n",
       "      <td>2</td>\n",
       "      <td>3</td>\n",
       "      <td>4100000000</td>\n",
       "      <td>202</td>\n",
       "      <td>300</td>\n",
       "      <td>rumah</td>\n",
       "    </tr>\n",
       "    <tr>\n",
       "      <th>2</th>\n",
       "      <td>Jual Cepat Rumah di Maleber Rajawali Bisa Untu...</td>\n",
       "      <td>Andir, Bandung</td>\n",
       "      <td>5</td>\n",
       "      <td>2</td>\n",
       "      <td>1</td>\n",
       "      <td>3300000000</td>\n",
       "      <td>350</td>\n",
       "      <td>258</td>\n",
       "      <td>rumah</td>\n",
       "    </tr>\n",
       "  </tbody>\n",
       "</table>\n",
       "</div>"
      ],
      "text/plain": [
       "                                          house_name        location  \\\n",
       "0  Rumah 2 Lantai Bagus Sertifikat Hak Milik di M...  Andir, Bandung   \n",
       "1                    Rumah Cantik @ Andir (Sudirman)  Andir, Bandung   \n",
       "2  Jual Cepat Rumah di Maleber Rajawali Bisa Untu...  Andir, Bandung   \n",
       "\n",
       "   bedroom_count  bathroom_count  carport_count       price  land_area (m2)  \\\n",
       "0              3               2              2  2100000000             137   \n",
       "1              3               2              3  4100000000             202   \n",
       "2              5               2              1  3300000000             350   \n",
       "\n",
       "   building_area (m2) category  \n",
       "0                 170    rumah  \n",
       "1                 300    rumah  \n",
       "2                 258    rumah  "
      ]
     },
     "execution_count": 3,
     "metadata": {},
     "output_type": "execute_result"
    }
   ],
   "source": [
    "# Import datasets\n",
    "housing = pd.read_csv(CSV_PATH)\n",
    "housing.head(3)"
   ]
  },
  {
   "cell_type": "code",
   "execution_count": 4,
   "metadata": {},
   "outputs": [
    {
     "data": {
      "text/plain": [
       "(7607, 9)"
      ]
     },
     "execution_count": 4,
     "metadata": {},
     "output_type": "execute_result"
    }
   ],
   "source": [
    "housing.shape"
   ]
  },
  {
   "cell_type": "markdown",
   "metadata": {},
   "source": [
    "The housing data have 7609 instances and 9 variables."
   ]
  },
  {
   "cell_type": "code",
   "execution_count": 5,
   "metadata": {},
   "outputs": [
    {
     "data": {
      "text/html": [
       "<div>\n",
       "<style scoped>\n",
       "    .dataframe tbody tr th:only-of-type {\n",
       "        vertical-align: middle;\n",
       "    }\n",
       "\n",
       "    .dataframe tbody tr th {\n",
       "        vertical-align: top;\n",
       "    }\n",
       "\n",
       "    .dataframe thead th {\n",
       "        text-align: right;\n",
       "    }\n",
       "</style>\n",
       "<table border=\"1\" class=\"dataframe\">\n",
       "  <thead>\n",
       "    <tr style=\"text-align: right;\">\n",
       "      <th></th>\n",
       "      <th>bedroom_count</th>\n",
       "      <th>bathroom_count</th>\n",
       "      <th>carport_count</th>\n",
       "      <th>price</th>\n",
       "      <th>land_area (m2)</th>\n",
       "      <th>building_area (m2)</th>\n",
       "    </tr>\n",
       "  </thead>\n",
       "  <tbody>\n",
       "    <tr>\n",
       "      <th>count</th>\n",
       "      <td>7607.000000</td>\n",
       "      <td>7607.000000</td>\n",
       "      <td>7607.000000</td>\n",
       "      <td>7.607000e+03</td>\n",
       "      <td>7607.000000</td>\n",
       "      <td>7.607000e+03</td>\n",
       "    </tr>\n",
       "    <tr>\n",
       "      <th>mean</th>\n",
       "      <td>4.477061</td>\n",
       "      <td>3.196530</td>\n",
       "      <td>1.374523</td>\n",
       "      <td>4.982376e+09</td>\n",
       "      <td>274.573551</td>\n",
       "      <td>6.426945e+02</td>\n",
       "    </tr>\n",
       "    <tr>\n",
       "      <th>std</th>\n",
       "      <td>4.713118</td>\n",
       "      <td>4.105357</td>\n",
       "      <td>1.928310</td>\n",
       "      <td>1.476448e+10</td>\n",
       "      <td>440.610058</td>\n",
       "      <td>3.446351e+04</td>\n",
       "    </tr>\n",
       "    <tr>\n",
       "      <th>min</th>\n",
       "      <td>0.000000</td>\n",
       "      <td>0.000000</td>\n",
       "      <td>0.000000</td>\n",
       "      <td>1.200000e+07</td>\n",
       "      <td>6.000000</td>\n",
       "      <td>1.000000e+00</td>\n",
       "    </tr>\n",
       "    <tr>\n",
       "      <th>25%</th>\n",
       "      <td>3.000000</td>\n",
       "      <td>2.000000</td>\n",
       "      <td>0.000000</td>\n",
       "      <td>1.150000e+09</td>\n",
       "      <td>102.000000</td>\n",
       "      <td>1.000000e+02</td>\n",
       "    </tr>\n",
       "    <tr>\n",
       "      <th>50%</th>\n",
       "      <td>4.000000</td>\n",
       "      <td>3.000000</td>\n",
       "      <td>1.000000</td>\n",
       "      <td>2.250000e+09</td>\n",
       "      <td>165.000000</td>\n",
       "      <td>1.800000e+02</td>\n",
       "    </tr>\n",
       "    <tr>\n",
       "      <th>75%</th>\n",
       "      <td>5.000000</td>\n",
       "      <td>3.000000</td>\n",
       "      <td>2.000000</td>\n",
       "      <td>4.750000e+09</td>\n",
       "      <td>313.000000</td>\n",
       "      <td>3.000000e+02</td>\n",
       "    </tr>\n",
       "    <tr>\n",
       "      <th>max</th>\n",
       "      <td>99.000000</td>\n",
       "      <td>99.000000</td>\n",
       "      <td>40.000000</td>\n",
       "      <td>7.350000e+11</td>\n",
       "      <td>11850.000000</td>\n",
       "      <td>3.006000e+06</td>\n",
       "    </tr>\n",
       "  </tbody>\n",
       "</table>\n",
       "</div>"
      ],
      "text/plain": [
       "       bedroom_count  bathroom_count  carport_count         price  \\\n",
       "count    7607.000000     7607.000000    7607.000000  7.607000e+03   \n",
       "mean        4.477061        3.196530       1.374523  4.982376e+09   \n",
       "std         4.713118        4.105357       1.928310  1.476448e+10   \n",
       "min         0.000000        0.000000       0.000000  1.200000e+07   \n",
       "25%         3.000000        2.000000       0.000000  1.150000e+09   \n",
       "50%         4.000000        3.000000       1.000000  2.250000e+09   \n",
       "75%         5.000000        3.000000       2.000000  4.750000e+09   \n",
       "max        99.000000       99.000000      40.000000  7.350000e+11   \n",
       "\n",
       "       land_area (m2)  building_area (m2)  \n",
       "count     7607.000000        7.607000e+03  \n",
       "mean       274.573551        6.426945e+02  \n",
       "std        440.610058        3.446351e+04  \n",
       "min          6.000000        1.000000e+00  \n",
       "25%        102.000000        1.000000e+02  \n",
       "50%        165.000000        1.800000e+02  \n",
       "75%        313.000000        3.000000e+02  \n",
       "max      11850.000000        3.006000e+06  "
      ]
     },
     "execution_count": 5,
     "metadata": {},
     "output_type": "execute_result"
    }
   ],
   "source": [
    "housing.describe()"
   ]
  },
  {
   "cell_type": "code",
   "execution_count": null,
   "metadata": {},
   "outputs": [],
   "source": []
  }
 ],
 "metadata": {
  "kernelspec": {
   "display_name": "Python 3",
   "language": "python",
   "name": "python3"
  },
  "language_info": {
   "codemirror_mode": {
    "name": "ipython",
    "version": 3
   },
   "file_extension": ".py",
   "mimetype": "text/x-python",
   "name": "python",
   "nbconvert_exporter": "python",
   "pygments_lexer": "ipython3",
   "version": "3.10.0"
  }
 },
 "nbformat": 4,
 "nbformat_minor": 2
}
